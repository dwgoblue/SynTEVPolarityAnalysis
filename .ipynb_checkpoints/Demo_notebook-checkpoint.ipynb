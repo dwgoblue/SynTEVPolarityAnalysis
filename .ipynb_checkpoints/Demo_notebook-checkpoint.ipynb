{
 "cells": [
  {
   "cell_type": "code",
   "execution_count": 1,
   "metadata": {},
   "outputs": [
    {
     "name": "stdout",
     "output_type": "stream",
     "text": [
      "/home/r04b43015/SynPolarityAnalysis\n",
      "Start to process the group of NSSC-32 .\n",
      "Processing 30 cells in signal0.\n",
      "Processing 30 cells in signal1.\n",
      "Start to process the group of NSSCP-32 .\n",
      "Processing 29 cells in signal0.\n",
      "Processing 29 cells in signal1.\n",
      "The group NSSC-32 has n= 30 after unipolar PopZ selection.\n",
      "The group NSSC-32 has n= 30\n",
      "save!!\n",
      "The group NSSCP-32 has n= 15 after unipolar PopZ selection.\n",
      "The group NSSCP-32 has n= 15\n",
      "save!!\n"
     ]
    },
    {
     "data": {
      "text/plain": [
       "<Figure size 800x300 with 1 Axes>"
      ]
     },
     "metadata": {},
     "output_type": "display_data"
    },
    {
     "name": "stdout",
     "output_type": "stream",
     "text": [
      "ttest_ind:            t = -4.76933  p = 2.14672e-05\n"
     ]
    },
    {
     "data": {
      "text/plain": [
       "<Figure size 300x500 with 1 Axes>"
      ]
     },
     "metadata": {},
     "output_type": "display_data"
    },
    {
     "name": "stdout",
     "output_type": "stream",
     "text": [
      "The analysis is finishing.\n"
     ]
    }
   ],
   "source": [
    "from Piplines import*\n",
    "import os\n",
    "\n",
    "# Apply absolute path if needed.\n",
    "path = r'./Demo/[Demo]DataInput_folder.txt'\n",
    "\n",
    "# Change the first input from _ to \"\" in older version.\n",
    "Starter = PiplinesObj(_, TimeLapse=False,\n",
    "                      columns=[(0,1)],\n",
    "                      mode='txt',\n",
    "                      txt_path=path)\n",
    "                      \n",
    "# Analysis of LR ratio and two-profiles comparison.\n",
    "Starter.TwoChannelPipline(plots=['lr', 'twoprofiles'],\n",
    "                          twoselect=['NSSCP-32', 'NSSC-32'])"
   ]
  },
  {
   "cell_type": "code",
   "execution_count": null,
   "metadata": {},
   "outputs": [],
   "source": []
  }
 ],
 "metadata": {
  "kernelspec": {
   "display_name": "Python 3",
   "language": "python",
   "name": "python3"
  },
  "language_info": {
   "codemirror_mode": {
    "name": "ipython",
    "version": 3
   },
   "file_extension": ".py",
   "mimetype": "text/x-python",
   "name": "python",
   "nbconvert_exporter": "python",
   "pygments_lexer": "ipython3",
   "version": "3.7.4"
  }
 },
 "nbformat": 4,
 "nbformat_minor": 4
}
