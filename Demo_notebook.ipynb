{
 "cells": [
  {
   "cell_type": "code",
   "execution_count": 1,
   "metadata": {},
   "outputs": [
    {
     "name": "stdout",
     "output_type": "stream",
     "text": [
      "Start to process the group of NSSC-32 .\n",
      "Processing 30 cells in signal0.\n",
      "Processing 30 cells in signal1.\n",
      "Start to process the group of NSSCP-32 .\n",
      "Processing 29 cells in signal0.\n",
      "Processing 29 cells in signal1.\n",
      "The group NSSC-32 has n= 30 after unipolar PopZ selection.\n",
      "The group NSSC-32 has n= 30\n",
      "The group NSSCP-32 has n= 15 after unipolar PopZ selection.\n",
      "The group NSSCP-32 has n= 15\n"
     ]
    },
    {
     "data": {
      "text/plain": [
       "<Figure size 800x300 with 1 Axes>"
      ]
     },
     "metadata": {},
     "output_type": "display_data"
    },
    {
     "name": "stdout",
     "output_type": "stream",
     "text": [
      "ttest_ind:            t = -4.66836  p = 2.97541e-05\n"
     ]
    },
    {
     "data": {
      "text/plain": [
       "<Figure size 300x500 with 1 Axes>"
      ]
     },
     "metadata": {},
     "output_type": "display_data"
    },
    {
     "name": "stdout",
     "output_type": "stream",
     "text": [
      "The analysis is finishing.\n"
     ]
    }
   ],
   "source": [
    "from Piplines import*\n",
    "import os\n",
    "\n",
    "# Apply absolute path if needed.\n",
    "path = r'./Demo/[Demo]DataInput_folder.txt'\n",
    "\n",
    "# Change the first input from _ to \"\" in older version.\n",
    "Starter = PiplinesObj(_, TimeLapse=False,\n",
    "                      columns=[(0,1)],\n",
    "                      mode='txt',\n",
    "                      txt_path=path)\n",
    "                      \n",
    "# Analysis of LR ratio and two-profiles comparison.\n",
    "Starter.TwoChannelPipline(plots=['lr', 'twoprofiles'],\n",
    "                          twoselect=['NSSCP-32', 'NSSC-32'])"
   ]
  },
  {
   "cell_type": "code",
   "execution_count": 5,
   "metadata": {},
   "outputs": [
    {
     "name": "stdout",
     "output_type": "stream",
     "text": [
      "Start to process the group of NSCC .\n",
      "Processing 20 cells in signal0.\n",
      "Processing 20 cells in signal1.\n",
      "Processing 19 cells in signal0.\n",
      "Processing 19 cells in signal1.\n",
      "Processing 19 cells in signal0.\n",
      "Processing 19 cells in signal1.\n",
      "Processing 20 cells in signal0.\n",
      "Processing 20 cells in signal1.\n",
      "Processing 44 cells in signal0.\n",
      "Processing 44 cells in signal1.\n",
      "Start to process the group of NSCCP .\n",
      "Processing 6 cells in signal0.\n",
      "Processing 6 cells in signal1.\n",
      "Processing 18 cells in signal0.\n",
      "Processing 18 cells in signal1.\n",
      "Processing 37 cells in signal0.\n",
      "Warning: a cell with length 1 shorter than 3 or longer than 150 units will be skipped.\n",
      "Warning: a cell with length 1 shorter than 3 or longer than 150 units will be skipped.\n",
      "Processing 37 cells in signal1.\n",
      "Warning: a cell with length 1 shorter than 3 or longer than 150 units will be skipped.\n",
      "Warning: a cell with length 1 shorter than 3 or longer than 150 units will be skipped.\n",
      "Processing 44 cells in signal0.\n",
      "Warning: a cell with length 1 shorter than 3 or longer than 150 units will be skipped.\n",
      "Processing 44 cells in signal1.\n",
      "Warning: a cell with length 1 shorter than 3 or longer than 150 units will be skipped.\n",
      "Processing 19 cells in signal0.\n",
      "Processing 19 cells in signal1.\n",
      "Processing 20 cells in signal0.\n",
      "Processing 20 cells in signal1.\n",
      "Processing 28 cells in signal0.\n",
      "Processing 28 cells in signal1.\n",
      "Processing 25 cells in signal0.\n",
      "Processing 25 cells in signal1.\n",
      "Processing 29 cells in signal0.\n",
      "Warning: a cell with length 0 shorter than 3 or longer than 150 units will be skipped.\n",
      "Processing 29 cells in signal1.\n",
      "Warning: a cell with length 0 shorter than 3 or longer than 150 units will be skipped.\n",
      "Processing 27 cells in signal0.\n",
      "Processing 27 cells in signal1.\n",
      "Processing 17 cells in signal0.\n",
      "Processing 17 cells in signal1.\n",
      "Processing 24 cells in signal0.\n",
      "Processing 24 cells in signal1.\n",
      "Processing 19 cells in signal0.\n",
      "Processing 19 cells in signal1.\n",
      "Processing 30 cells in signal0.\n",
      "Processing 30 cells in signal1.\n",
      "The group NSCC has n= 122 after unipolar PopZ selection.\n",
      "The group NSCCP has n= 105 after unipolar PopZ selection.\n",
      "ttest_ind:            t = -3.00696  p = 0.00293852\n"
     ]
    },
    {
     "data": {
      "image/png": "[encoded data removed]",
      "text/plain": [
       "<Figure size 216x360 with 1 Axes>"
      ]
     },
     "metadata": {},
     "output_type": "display_data"
    },
    {
     "name": "stdout",
     "output_type": "stream",
     "text": [
      "The analysis is finishing.\n"
     ]
    }
   ],
   "source": [
    "from Piplines import*\n",
    "import os\n",
    "\n",
    "# Apply absolute path if needed.\n",
    "path = r'./Demo/[Demo]DataInput_folder.txt'\n",
    "\n",
    "# Change the first input from _ to \"\" in older version.\n",
    "Starter = PiplinesObj(Supfig12d, TimeLapse=False,\n",
    "                      columns=[(0,1)],\n",
    "                      mode='func',\n",
    "                      txt_path=path)\n",
    "                      \n",
    "# Analysis of LR ratio and two-profiles comparison.\n",
    "Starter.TwoChannelPipline(plots=['lr'])"
   ]
  },
  {
   "cell_type": "code",
   "execution_count": 6,
   "metadata": {},
   "outputs": [
    {
     "data": {
      "text/plain": [
       "'3.7.4 (default, Aug 13 2019, 20:35:49) \\n[GCC 7.3.0]'"
      ]
     },
     "execution_count": 6,
     "metadata": {},
     "output_type": "execute_result"
    }
   ],
   "source": [
    "import sys\n",
    "sys.version"
   ]
  },
  {
   "cell_type": "code",
   "execution_count": null,
   "metadata": {},
   "outputs": [],
   "source": []
  }
 ],
 "metadata": {
  "kernelspec": {
   "display_name": "Python 3",
   "language": "python",
   "name": "python3"
  },
  "language_info": {
   "codemirror_mode": {
    "name": "ipython",
    "version": 3
   },
   "file_extension": ".py",
   "mimetype": "text/x-python",
   "name": "python",
   "nbconvert_exporter": "python",
   "pygments_lexer": "ipython3",
   "version": "3.7.4"
  }
 },
 "nbformat": 4,
 "nbformat_minor": 4
}
